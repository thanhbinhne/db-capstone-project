{
 "cells": [
  {
   "cell_type": "code",
   "execution_count": 1,
   "id": "9d12652d-a835-4070-938f-78ecfb8b77ee",
   "metadata": {},
   "outputs": [
    {
     "name": "stdout",
     "output_type": "stream",
     "text": [
      "Requirement already satisfied: mysql-connector-python in c:\\users\\administrator\\appdata\\local\\programs\\python\\python312\\lib\\site-packages (9.4.0)\n"
     ]
    },
    {
     "name": "stderr",
     "output_type": "stream",
     "text": [
      "\n",
      "[notice] A new release of pip is available: 24.2 -> 25.2\n",
      "[notice] To update, run: python.exe -m pip install --upgrade pip\n"
     ]
    }
   ],
   "source": [
    "!pip install mysql-connector-python"
   ]
  },
  {
   "cell_type": "code",
   "execution_count": 2,
   "id": "e67a568b-2611-4529-a4a3-ee3a45fc1def",
   "metadata": {},
   "outputs": [],
   "source": [
    "import mysql.connector as connector"
   ]
  },
  {
   "cell_type": "code",
   "execution_count": 6,
   "id": "b020d7c8-8dde-4ede-86ad-80a4c10efc83",
   "metadata": {},
   "outputs": [],
   "source": [
    "connection = connector.connect(user=\"littlelemon_user\", password=\"thanhbinh2306\",db=\"LittleLemonDB\")"
   ]
  },
  {
   "cell_type": "code",
   "execution_count": 7,
   "id": "0431e25a-a5b5-42ca-9ced-fdc936018428",
   "metadata": {},
   "outputs": [],
   "source": [
    "cursor = connection.cursor()"
   ]
  },
  {
   "cell_type": "code",
   "execution_count": 8,
   "id": "65d7a395-cef0-45c0-b10f-b20313bd5f85",
   "metadata": {},
   "outputs": [],
   "source": [
    "show_tables_query = \"SHOW tables\""
   ]
  },
  {
   "cell_type": "code",
   "execution_count": 9,
   "id": "4e878f27-7c84-4b50-a2c9-afa1c4323865",
   "metadata": {},
   "outputs": [],
   "source": [
    "cursor.execute(show_tables_query)"
   ]
  },
  {
   "cell_type": "code",
   "execution_count": 10,
   "id": "de6984a5-0bd9-4e66-898f-6ab2fdff5a2c",
   "metadata": {},
   "outputs": [],
   "source": [
    "results = cursor.fetchall()"
   ]
  },
  {
   "cell_type": "code",
   "execution_count": 11,
   "id": "74ff5b12-3171-43b0-818d-b516c91f5ea3",
   "metadata": {},
   "outputs": [
    {
     "name": "stdout",
     "output_type": "stream",
     "text": [
      "[('bookings',), ('customer_details',), ('menu',), ('orderdeliverystatus',), ('orderitem',), ('orders',), ('ordersview',), ('staff',)]\n"
     ]
    }
   ],
   "source": [
    "print(results)"
   ]
  },
  {
   "cell_type": "code",
   "execution_count": 17,
   "id": "3caba2f2-45bb-4124-b6a6-5fce97db4ea1",
   "metadata": {},
   "outputs": [],
   "source": [
    "promo_query = \"\"\"\n",
    "SELECT\n",
    "    c.CustomerName,\n",
    "    c.ContactDetails,\n",
    "    o.TotalCost\n",
    "FROM customer_details AS c\n",
    "INNER JOIN orders AS o ON c.CustomerID = o.CustomerID\n",
    "WHERE o.TotalCost > 60;\n",
    "\"\"\""
   ]
  },
  {
   "cell_type": "code",
   "execution_count": 18,
   "id": "f3177765-fafe-4885-9939-344cdd141bb4",
   "metadata": {},
   "outputs": [],
   "source": [
    "cursor.execute(promo_query)"
   ]
  },
  {
   "cell_type": "code",
   "execution_count": 19,
   "id": "4e586f0b-0478-4c08-98e0-ba9790920f4a",
   "metadata": {},
   "outputs": [],
   "source": [
    "promo_results = cursor.fetchall()"
   ]
  },
  {
   "cell_type": "code",
   "execution_count": 20,
   "id": "4b05bf45-7f4a-4174-b9f7-aff290ec5b48",
   "metadata": {},
   "outputs": [
    {
     "name": "stdout",
     "output_type": "stream",
     "text": [
      "Khách hàng tiềm năng cho chiến dịch quảng cáo (chi tiêu > $60):\n",
      "('John Doe', '123-456-7890', Decimal('180.00'))\n"
     ]
    }
   ],
   "source": [
    "print(\"Khách hàng tiềm năng cho chiến dịch quảng cáo (chi tiêu > $60):\")\n",
    "for customer in promo_results:\n",
    "    print(customer)"
   ]
  },
  {
   "cell_type": "code",
   "execution_count": null,
   "id": "d86ae472-0f2d-46ec-a52c-c842fcfab620",
   "metadata": {},
   "outputs": [],
   "source": []
  }
 ],
 "metadata": {
  "kernelspec": {
   "display_name": "Python 3 (ipykernel)",
   "language": "python",
   "name": "python3"
  },
  "language_info": {
   "codemirror_mode": {
    "name": "ipython",
    "version": 3
   },
   "file_extension": ".py",
   "mimetype": "text/x-python",
   "name": "python",
   "nbconvert_exporter": "python",
   "pygments_lexer": "ipython3",
   "version": "3.12.4"
  }
 },
 "nbformat": 4,
 "nbformat_minor": 5
}
